{
 "cells": [
  {
   "cell_type": "code",
   "execution_count": 1,
   "id": "d7fb7a36",
   "metadata": {},
   "outputs": [],
   "source": [
    "import pydaisi as pyd"
   ]
  },
  {
   "cell_type": "code",
   "execution_count": 2,
   "id": "4c8dfe27",
   "metadata": {},
   "outputs": [
    {
     "data": {
      "text/html": [
       "<pre style=\"white-space:pre;overflow-x:auto;line-height:normal;font-family:Menlo,'DejaVu Sans Mono',consolas,'Courier New',monospace\"><span style=\"color: #7fbfbf; text-decoration-color: #7fbfbf\">[08:54:46] </span><span style=\"color: #000080; text-decoration-color: #000080\">INFO    </span> Calling                                                    <a href=\"file:///opt/miniconda3/envs/daisidemo/lib/python3.9/site-packages/pydaisi/pydaisi.py\" target=\"_blank\"><span style=\"color: #7f7f7f; text-decoration-color: #7f7f7f\">pydaisi.py</span></a><span style=\"color: #7f7f7f; text-decoration-color: #7f7f7f\">:</span><a href=\"file:///opt/miniconda3/envs/daisidemo/lib/python3.9/site-packages/pydaisi/pydaisi.py#299\" target=\"_blank\"><span style=\"color: #7f7f7f; text-decoration-color: #7f7f7f\">299</span></a>\n",
       "<span style=\"color: #7fbfbf; text-decoration-color: #7fbfbf\">           </span>         <span style=\"color: #0000ff; text-decoration-color: #0000ff; text-decoration: underline\">https://app.daisi.io/pebble-api/daisies/connect?name=My</span> ML <span style=\"color: #7f7f7f; text-decoration-color: #7f7f7f\">              </span>\n",
       "<span style=\"color: #7fbfbf; text-decoration-color: #7fbfbf\">           </span>         Model                                                      <span style=\"color: #7f7f7f; text-decoration-color: #7f7f7f\">              </span>\n",
       "</pre>\n"
      ],
      "text/plain": [
       "\u001b[2;36m[08:54:46]\u001b[0m\u001b[2;36m \u001b[0m\u001b[34mINFO    \u001b[0m Calling                                                    \u001b]8;id=388677;file:///opt/miniconda3/envs/daisidemo/lib/python3.9/site-packages/pydaisi/pydaisi.py\u001b\\\u001b[2mpydaisi.py\u001b[0m\u001b]8;;\u001b\\\u001b[2m:\u001b[0m\u001b]8;id=484115;file:///opt/miniconda3/envs/daisidemo/lib/python3.9/site-packages/pydaisi/pydaisi.py#299\u001b\\\u001b[2m299\u001b[0m\u001b]8;;\u001b\\\n",
       "\u001b[2;36m           \u001b[0m         \u001b[4;94mhttps://app.daisi.io/pebble-api/daisies/connect?\u001b[0m\u001b[4;94mname\u001b[0m\u001b[4;94m=\u001b[0m\u001b[4;94mMy\u001b[0m ML \u001b[2m              \u001b[0m\n",
       "\u001b[2;36m           \u001b[0m         Model                                                      \u001b[2m              \u001b[0m\n"
      ]
     },
     "metadata": {},
     "output_type": "display_data"
    },
    {
     "data": {
      "text/html": [
       "<pre style=\"white-space:pre;overflow-x:auto;line-height:normal;font-family:Menlo,'DejaVu Sans Mono',consolas,'Courier New',monospace\"><span style=\"color: #7fbfbf; text-decoration-color: #7fbfbf\">[08:54:47] </span><span style=\"color: #000080; text-decoration-color: #000080\">INFO    </span> Found existing Daisi: <span style=\"color: #ffff00; text-decoration-color: #ffff00\">04324ba0-b75c-4b6f-8a88-de32a4b7990b</span> <a href=\"file:///opt/miniconda3/envs/daisidemo/lib/python3.9/site-packages/pydaisi/pydaisi.py\" target=\"_blank\"><span style=\"color: #7f7f7f; text-decoration-color: #7f7f7f\">pydaisi.py</span></a><span style=\"color: #7f7f7f; text-decoration-color: #7f7f7f\">:</span><a href=\"file:///opt/miniconda3/envs/daisidemo/lib/python3.9/site-packages/pydaisi/pydaisi.py#313\" target=\"_blank\"><span style=\"color: #7f7f7f; text-decoration-color: #7f7f7f\">313</span></a>\n",
       "</pre>\n"
      ],
      "text/plain": [
       "\u001b[2;36m[08:54:47]\u001b[0m\u001b[2;36m \u001b[0m\u001b[34mINFO    \u001b[0m Found existing Daisi: \u001b[93m04324ba0-b75c-4b6f-8a88-de32a4b7990b\u001b[0m \u001b]8;id=961476;file:///opt/miniconda3/envs/daisidemo/lib/python3.9/site-packages/pydaisi/pydaisi.py\u001b\\\u001b[2mpydaisi.py\u001b[0m\u001b]8;;\u001b\\\u001b[2m:\u001b[0m\u001b]8;id=91140;file:///opt/miniconda3/envs/daisidemo/lib/python3.9/site-packages/pydaisi/pydaisi.py#313\u001b\\\u001b[2m313\u001b[0m\u001b]8;;\u001b\\\n"
      ]
     },
     "metadata": {},
     "output_type": "display_data"
    }
   ],
   "source": [
    "forecaster = pyd.Daisi(\"My ML Model\")"
   ]
  },
  {
   "cell_type": "code",
   "execution_count": 4,
   "id": "ab287f8f",
   "metadata": {},
   "outputs": [],
   "source": [
    "import pandas as pd\n",
    "data = pd.read_csv(\"sales.csv\")"
   ]
  },
  {
   "cell_type": "code",
   "execution_count": 6,
   "id": "3f127855",
   "metadata": {},
   "outputs": [],
   "source": [
    "my_result = forecaster.predict(df = data, period = 50)"
   ]
  },
  {
   "cell_type": "code",
   "execution_count": 7,
   "id": "9510079f",
   "metadata": {},
   "outputs": [
    {
     "data": {
      "text/html": [
       "<div>\n",
       "<style scoped>\n",
       "    .dataframe tbody tr th:only-of-type {\n",
       "        vertical-align: middle;\n",
       "    }\n",
       "\n",
       "    .dataframe tbody tr th {\n",
       "        vertical-align: top;\n",
       "    }\n",
       "\n",
       "    .dataframe thead th {\n",
       "        text-align: right;\n",
       "    }\n",
       "</style>\n",
       "<table border=\"1\" class=\"dataframe\">\n",
       "  <thead>\n",
       "    <tr style=\"text-align: right;\">\n",
       "      <th></th>\n",
       "      <th>ds</th>\n",
       "      <th>trend</th>\n",
       "      <th>yhat_lower</th>\n",
       "      <th>yhat_upper</th>\n",
       "      <th>trend_lower</th>\n",
       "      <th>trend_upper</th>\n",
       "      <th>additive_terms</th>\n",
       "      <th>additive_terms_lower</th>\n",
       "      <th>additive_terms_upper</th>\n",
       "      <th>weekly</th>\n",
       "      <th>weekly_lower</th>\n",
       "      <th>weekly_upper</th>\n",
       "      <th>yearly</th>\n",
       "      <th>yearly_lower</th>\n",
       "      <th>yearly_upper</th>\n",
       "      <th>multiplicative_terms</th>\n",
       "      <th>multiplicative_terms_lower</th>\n",
       "      <th>multiplicative_terms_upper</th>\n",
       "      <th>yhat</th>\n",
       "    </tr>\n",
       "  </thead>\n",
       "  <tbody>\n",
       "    <tr>\n",
       "      <th>342</th>\n",
       "      <td>2022-06-20</td>\n",
       "      <td>464069.591429</td>\n",
       "      <td>439310.420673</td>\n",
       "      <td>459664.856354</td>\n",
       "      <td>464069.591429</td>\n",
       "      <td>464069.591429</td>\n",
       "      <td>-14795.846033</td>\n",
       "      <td>-14795.846033</td>\n",
       "      <td>-14795.846033</td>\n",
       "      <td>-3431.718525</td>\n",
       "      <td>-3431.718525</td>\n",
       "      <td>-3431.718525</td>\n",
       "      <td>-11364.127508</td>\n",
       "      <td>-11364.127508</td>\n",
       "      <td>-11364.127508</td>\n",
       "      <td>0.0</td>\n",
       "      <td>0.0</td>\n",
       "      <td>0.0</td>\n",
       "      <td>449273.745396</td>\n",
       "    </tr>\n",
       "    <tr>\n",
       "      <th>341</th>\n",
       "      <td>2022-06-19</td>\n",
       "      <td>464022.812416</td>\n",
       "      <td>435023.198574</td>\n",
       "      <td>455280.466664</td>\n",
       "      <td>464022.812416</td>\n",
       "      <td>464022.812416</td>\n",
       "      <td>-18703.311318</td>\n",
       "      <td>-18703.311318</td>\n",
       "      <td>-18703.311318</td>\n",
       "      <td>-3586.059446</td>\n",
       "      <td>-3586.059446</td>\n",
       "      <td>-3586.059446</td>\n",
       "      <td>-15117.251872</td>\n",
       "      <td>-15117.251872</td>\n",
       "      <td>-15117.251872</td>\n",
       "      <td>0.0</td>\n",
       "      <td>0.0</td>\n",
       "      <td>0.0</td>\n",
       "      <td>445319.501097</td>\n",
       "    </tr>\n",
       "    <tr>\n",
       "      <th>340</th>\n",
       "      <td>2022-06-18</td>\n",
       "      <td>463976.033402</td>\n",
       "      <td>432796.999872</td>\n",
       "      <td>454333.157039</td>\n",
       "      <td>463976.033402</td>\n",
       "      <td>463976.033402</td>\n",
       "      <td>-20858.209904</td>\n",
       "      <td>-20858.209904</td>\n",
       "      <td>-20858.209904</td>\n",
       "      <td>-2100.488236</td>\n",
       "      <td>-2100.488236</td>\n",
       "      <td>-2100.488236</td>\n",
       "      <td>-18757.721668</td>\n",
       "      <td>-18757.721668</td>\n",
       "      <td>-18757.721668</td>\n",
       "      <td>0.0</td>\n",
       "      <td>0.0</td>\n",
       "      <td>0.0</td>\n",
       "      <td>443117.823499</td>\n",
       "    </tr>\n",
       "    <tr>\n",
       "      <th>339</th>\n",
       "      <td>2022-06-17</td>\n",
       "      <td>463929.254389</td>\n",
       "      <td>433176.400492</td>\n",
       "      <td>454678.044867</td>\n",
       "      <td>463929.254389</td>\n",
       "      <td>463929.254389</td>\n",
       "      <td>-20232.442172</td>\n",
       "      <td>-20232.442172</td>\n",
       "      <td>-20232.442172</td>\n",
       "      <td>1924.537508</td>\n",
       "      <td>1924.537508</td>\n",
       "      <td>1924.537508</td>\n",
       "      <td>-22156.979680</td>\n",
       "      <td>-22156.979680</td>\n",
       "      <td>-22156.979680</td>\n",
       "      <td>0.0</td>\n",
       "      <td>0.0</td>\n",
       "      <td>0.0</td>\n",
       "      <td>443696.812217</td>\n",
       "    </tr>\n",
       "    <tr>\n",
       "      <th>338</th>\n",
       "      <td>2022-06-16</td>\n",
       "      <td>463882.475376</td>\n",
       "      <td>431917.794554</td>\n",
       "      <td>453224.445223</td>\n",
       "      <td>463882.475376</td>\n",
       "      <td>463882.475376</td>\n",
       "      <td>-21043.483062</td>\n",
       "      <td>-21043.483062</td>\n",
       "      <td>-21043.483062</td>\n",
       "      <td>4149.562016</td>\n",
       "      <td>4149.562016</td>\n",
       "      <td>4149.562016</td>\n",
       "      <td>-25193.045078</td>\n",
       "      <td>-25193.045078</td>\n",
       "      <td>-25193.045078</td>\n",
       "      <td>0.0</td>\n",
       "      <td>0.0</td>\n",
       "      <td>0.0</td>\n",
       "      <td>442838.992313</td>\n",
       "    </tr>\n",
       "  </tbody>\n",
       "</table>\n",
       "</div>"
      ]
     },
     "execution_count": 7,
     "metadata": {},
     "output_type": "execute_result"
    }
   ],
   "source": [
    "my_result.value[0]"
   ]
  },
  {
   "cell_type": "code",
   "execution_count": 10,
   "id": "43386f59",
   "metadata": {},
   "outputs": [
    {
     "data": {
      "text/html": [
       "<pre style=\"white-space:pre;overflow-x:auto;line-height:normal;font-family:Menlo,'DejaVu Sans Mono',consolas,'Courier New',monospace\"><span style=\"color: #7fbfbf; text-decoration-color: #7fbfbf\">[09:00:12] </span><span style=\"color: #000080; text-decoration-color: #000080\">INFO    </span> Calling <span style=\"color: #0000ff; text-decoration-color: #0000ff; text-decoration: underline\">https://app.daisi.io/pebble-api/daisies/connect?na</span> <a href=\"file:///opt/miniconda3/envs/daisidemo/lib/python3.9/site-packages/pydaisi/pydaisi.py\" target=\"_blank\"><span style=\"color: #7f7f7f; text-decoration-color: #7f7f7f\">pydaisi.py</span></a><span style=\"color: #7f7f7f; text-decoration-color: #7f7f7f\">:</span><a href=\"file:///opt/miniconda3/envs/daisidemo/lib/python3.9/site-packages/pydaisi/pydaisi.py#299\" target=\"_blank\"><span style=\"color: #7f7f7f; text-decoration-color: #7f7f7f\">299</span></a>\n",
       "<span style=\"color: #7fbfbf; text-decoration-color: #7fbfbf\">           </span>         <span style=\"color: #0000ff; text-decoration-color: #0000ff; text-decoration: underline\">me=Hiring</span> Model                                            <span style=\"color: #7f7f7f; text-decoration-color: #7f7f7f\">              </span>\n",
       "</pre>\n"
      ],
      "text/plain": [
       "\u001b[2;36m[09:00:12]\u001b[0m\u001b[2;36m \u001b[0m\u001b[34mINFO    \u001b[0m Calling \u001b[4;94mhttps://app.daisi.io/pebble-api/daisies/connect?\u001b[0m\u001b[4;94mna\u001b[0m \u001b]8;id=512117;file:///opt/miniconda3/envs/daisidemo/lib/python3.9/site-packages/pydaisi/pydaisi.py\u001b\\\u001b[2mpydaisi.py\u001b[0m\u001b]8;;\u001b\\\u001b[2m:\u001b[0m\u001b]8;id=254631;file:///opt/miniconda3/envs/daisidemo/lib/python3.9/site-packages/pydaisi/pydaisi.py#299\u001b\\\u001b[2m299\u001b[0m\u001b]8;;\u001b\\\n",
       "\u001b[2;36m           \u001b[0m         \u001b[4;94mme\u001b[0m\u001b[4;94m=\u001b[0m\u001b[4;94mHiring\u001b[0m Model                                            \u001b[2m              \u001b[0m\n"
      ]
     },
     "metadata": {},
     "output_type": "display_data"
    },
    {
     "data": {
      "text/html": [
       "<pre style=\"white-space:pre;overflow-x:auto;line-height:normal;font-family:Menlo,'DejaVu Sans Mono',consolas,'Courier New',monospace\"><span style=\"color: #7fbfbf; text-decoration-color: #7fbfbf\">[09:00:13] </span><span style=\"color: #000080; text-decoration-color: #000080\">INFO    </span> Found existing Daisi: <span style=\"color: #ffff00; text-decoration-color: #ffff00\">17b184b7-2fbb-473d-b780-a8e56ac34cc6</span> <a href=\"file:///opt/miniconda3/envs/daisidemo/lib/python3.9/site-packages/pydaisi/pydaisi.py\" target=\"_blank\"><span style=\"color: #7f7f7f; text-decoration-color: #7f7f7f\">pydaisi.py</span></a><span style=\"color: #7f7f7f; text-decoration-color: #7f7f7f\">:</span><a href=\"file:///opt/miniconda3/envs/daisidemo/lib/python3.9/site-packages/pydaisi/pydaisi.py#313\" target=\"_blank\"><span style=\"color: #7f7f7f; text-decoration-color: #7f7f7f\">313</span></a>\n",
       "</pre>\n"
      ],
      "text/plain": [
       "\u001b[2;36m[09:00:13]\u001b[0m\u001b[2;36m \u001b[0m\u001b[34mINFO    \u001b[0m Found existing Daisi: \u001b[93m17b184b7-2fbb-473d-b780-a8e56ac34cc6\u001b[0m \u001b]8;id=635001;file:///opt/miniconda3/envs/daisidemo/lib/python3.9/site-packages/pydaisi/pydaisi.py\u001b\\\u001b[2mpydaisi.py\u001b[0m\u001b]8;;\u001b\\\u001b[2m:\u001b[0m\u001b]8;id=968928;file:///opt/miniconda3/envs/daisidemo/lib/python3.9/site-packages/pydaisi/pydaisi.py#313\u001b\\\u001b[2m313\u001b[0m\u001b]8;;\u001b\\\n"
      ]
     },
     "metadata": {},
     "output_type": "display_data"
    }
   ],
   "source": [
    "next_daisi = pyd.Daisi(\"Hiring Model\")"
   ]
  },
  {
   "cell_type": "code",
   "execution_count": 12,
   "id": "b4295af4",
   "metadata": {},
   "outputs": [
    {
     "data": {
      "text/html": [
       "<div>\n",
       "<style scoped>\n",
       "    .dataframe tbody tr th:only-of-type {\n",
       "        vertical-align: middle;\n",
       "    }\n",
       "\n",
       "    .dataframe tbody tr th {\n",
       "        vertical-align: top;\n",
       "    }\n",
       "\n",
       "    .dataframe thead th {\n",
       "        text-align: right;\n",
       "    }\n",
       "</style>\n",
       "<table border=\"1\" class=\"dataframe\">\n",
       "  <thead>\n",
       "    <tr style=\"text-align: right;\">\n",
       "      <th></th>\n",
       "      <th>id</th>\n",
       "      <th>date</th>\n",
       "      <th>New hires count</th>\n",
       "    </tr>\n",
       "    <tr>\n",
       "      <th>id</th>\n",
       "      <th></th>\n",
       "      <th></th>\n",
       "      <th></th>\n",
       "    </tr>\n",
       "  </thead>\n",
       "  <tbody>\n",
       "    <tr>\n",
       "      <th>0</th>\n",
       "      <td>0</td>\n",
       "      <td>2022-06-20</td>\n",
       "      <td>26</td>\n",
       "    </tr>\n",
       "    <tr>\n",
       "      <th>1</th>\n",
       "      <td>1</td>\n",
       "      <td>2022-06-19</td>\n",
       "      <td>24</td>\n",
       "    </tr>\n",
       "    <tr>\n",
       "      <th>2</th>\n",
       "      <td>2</td>\n",
       "      <td>2022-06-18</td>\n",
       "      <td>24</td>\n",
       "    </tr>\n",
       "    <tr>\n",
       "      <th>3</th>\n",
       "      <td>3</td>\n",
       "      <td>2022-06-17</td>\n",
       "      <td>26</td>\n",
       "    </tr>\n",
       "    <tr>\n",
       "      <th>4</th>\n",
       "      <td>4</td>\n",
       "      <td>2022-06-16</td>\n",
       "      <td>27</td>\n",
       "    </tr>\n",
       "  </tbody>\n",
       "</table>\n",
       "</div>"
      ]
     },
     "execution_count": 12,
     "metadata": {},
     "output_type": "execute_result"
    }
   ],
   "source": [
    "next_daisi.estimate_hires(df=my_result.value[0]).value"
   ]
  },
  {
   "cell_type": "code",
   "execution_count": null,
   "id": "80de8fd1",
   "metadata": {},
   "outputs": [],
   "source": []
  }
 ],
 "metadata": {
  "kernelspec": {
   "display_name": "Python 3 (ipykernel)",
   "language": "python",
   "name": "python3"
  },
  "language_info": {
   "codemirror_mode": {
    "name": "ipython",
    "version": 3
   },
   "file_extension": ".py",
   "mimetype": "text/x-python",
   "name": "python",
   "nbconvert_exporter": "python",
   "pygments_lexer": "ipython3",
   "version": "3.9.12"
  }
 },
 "nbformat": 4,
 "nbformat_minor": 5
}
